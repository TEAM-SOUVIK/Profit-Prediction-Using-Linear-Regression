{
 "cells": [
  {
   "cell_type": "code",
   "execution_count": 8,
   "id": "d5e9ff75",
   "metadata": {},
   "outputs": [],
   "source": [
    "import numpy as np\n",
    "from sklearn.impute import SimpleImputer\n",
    "from sklearn.model_selection import train_test_split\n",
    "from sklearn.preprocessing import StandardScaler\n",
    "from sklearn.preprocessing import LabelEncoder\n",
    "import pandas as pd\n",
    "import seaborn as sns\n",
    "import matplotlib.pyplot as plt\n",
    "from sklearn.linear_model import LinearRegression"
   ]
  },
  {
   "cell_type": "code",
   "execution_count": 9,
   "id": "2df840d5",
   "metadata": {},
   "outputs": [
    {
     "data": {
      "text/html": [
       "<div>\n",
       "<style scoped>\n",
       "    .dataframe tbody tr th:only-of-type {\n",
       "        vertical-align: middle;\n",
       "    }\n",
       "\n",
       "    .dataframe tbody tr th {\n",
       "        vertical-align: top;\n",
       "    }\n",
       "\n",
       "    .dataframe thead th {\n",
       "        text-align: right;\n",
       "    }\n",
       "</style>\n",
       "<table border=\"1\" class=\"dataframe\">\n",
       "  <thead>\n",
       "    <tr style=\"text-align: right;\">\n",
       "      <th></th>\n",
       "      <th>Marketing Spend</th>\n",
       "      <th>Administration</th>\n",
       "      <th>Transport</th>\n",
       "      <th>Area</th>\n",
       "      <th>Profit</th>\n",
       "    </tr>\n",
       "  </thead>\n",
       "  <tbody>\n",
       "    <tr>\n",
       "      <th>0</th>\n",
       "      <td>114523.61</td>\n",
       "      <td>136897.80</td>\n",
       "      <td>471784.10</td>\n",
       "      <td>Dhaka</td>\n",
       "      <td>192261.83</td>\n",
       "    </tr>\n",
       "    <tr>\n",
       "      <th>1</th>\n",
       "      <td>162597.70</td>\n",
       "      <td>151377.59</td>\n",
       "      <td>443898.53</td>\n",
       "      <td>Ctg</td>\n",
       "      <td>191792.06</td>\n",
       "    </tr>\n",
       "    <tr>\n",
       "      <th>2</th>\n",
       "      <td>153441.51</td>\n",
       "      <td>101145.55</td>\n",
       "      <td>407934.54</td>\n",
       "      <td>Rangpur</td>\n",
       "      <td>191050.39</td>\n",
       "    </tr>\n",
       "    <tr>\n",
       "      <th>3</th>\n",
       "      <td>144372.41</td>\n",
       "      <td>118671.85</td>\n",
       "      <td>383199.62</td>\n",
       "      <td>Dhaka</td>\n",
       "      <td>182901.99</td>\n",
       "    </tr>\n",
       "  </tbody>\n",
       "</table>\n",
       "</div>"
      ],
      "text/plain": [
       "   Marketing Spend  Administration  Transport     Area     Profit\n",
       "0        114523.61       136897.80  471784.10    Dhaka  192261.83\n",
       "1        162597.70       151377.59  443898.53      Ctg  191792.06\n",
       "2        153441.51       101145.55  407934.54  Rangpur  191050.39\n",
       "3        144372.41       118671.85  383199.62    Dhaka  182901.99"
      ]
     },
     "execution_count": 9,
     "metadata": {},
     "output_type": "execute_result"
    }
   ],
   "source": [
    "url = 'https://drive.google.com/file/d/1SpN7-kXajDtiy6tYFQHtTCUwFXIEcql-/view?usp=share_link'\n",
    "path = 'https://drive.google.com/uc?export=downlaod&id='+url.split('/')[-2]\n",
    "df = pd.read_csv(path)\n",
    "df.head(4)\n"
   ]
  },
  {
   "cell_type": "code",
   "execution_count": 101,
   "id": "2c75e437",
   "metadata": {},
   "outputs": [],
   "source": [
    "le = LabelEncoder()\n",
    "df[\"Area_encoded\"] = le.fit_transform(df[\"Area\"])"
   ]
  },
  {
   "cell_type": "code",
   "execution_count": 102,
   "id": "4d4f65ba",
   "metadata": {},
   "outputs": [
    {
     "data": {
      "text/plain": [
       "0    1\n",
       "1    0\n",
       "2    2\n",
       "Name: Area_encoded, dtype: int32"
      ]
     },
     "execution_count": 102,
     "metadata": {},
     "output_type": "execute_result"
    }
   ],
   "source": [
    "df[\"Area_encoded\"].head(3)"
   ]
  },
  {
   "cell_type": "code",
   "execution_count": 104,
   "id": "b56febdf",
   "metadata": {},
   "outputs": [
    {
     "data": {
      "text/html": [
       "<div>\n",
       "<style scoped>\n",
       "    .dataframe tbody tr th:only-of-type {\n",
       "        vertical-align: middle;\n",
       "    }\n",
       "\n",
       "    .dataframe tbody tr th {\n",
       "        vertical-align: top;\n",
       "    }\n",
       "\n",
       "    .dataframe thead th {\n",
       "        text-align: right;\n",
       "    }\n",
       "</style>\n",
       "<table border=\"1\" class=\"dataframe\">\n",
       "  <thead>\n",
       "    <tr style=\"text-align: right;\">\n",
       "      <th></th>\n",
       "      <th>Marketing Spend</th>\n",
       "      <th>Administration</th>\n",
       "      <th>Transport</th>\n",
       "      <th>Area</th>\n",
       "      <th>Profit</th>\n",
       "      <th>Area_encoded</th>\n",
       "    </tr>\n",
       "  </thead>\n",
       "  <tbody>\n",
       "    <tr>\n",
       "      <th>0</th>\n",
       "      <td>114523.61</td>\n",
       "      <td>136897.80</td>\n",
       "      <td>471784.10</td>\n",
       "      <td>Dhaka</td>\n",
       "      <td>192261.83</td>\n",
       "      <td>1</td>\n",
       "    </tr>\n",
       "    <tr>\n",
       "      <th>1</th>\n",
       "      <td>162597.70</td>\n",
       "      <td>151377.59</td>\n",
       "      <td>443898.53</td>\n",
       "      <td>Ctg</td>\n",
       "      <td>191792.06</td>\n",
       "      <td>0</td>\n",
       "    </tr>\n",
       "    <tr>\n",
       "      <th>2</th>\n",
       "      <td>153441.51</td>\n",
       "      <td>101145.55</td>\n",
       "      <td>407934.54</td>\n",
       "      <td>Rangpur</td>\n",
       "      <td>191050.39</td>\n",
       "      <td>2</td>\n",
       "    </tr>\n",
       "    <tr>\n",
       "      <th>3</th>\n",
       "      <td>144372.41</td>\n",
       "      <td>118671.85</td>\n",
       "      <td>383199.62</td>\n",
       "      <td>Dhaka</td>\n",
       "      <td>182901.99</td>\n",
       "      <td>1</td>\n",
       "    </tr>\n",
       "    <tr>\n",
       "      <th>4</th>\n",
       "      <td>142107.34</td>\n",
       "      <td>91391.77</td>\n",
       "      <td>366168.42</td>\n",
       "      <td>Rangpur</td>\n",
       "      <td>166187.94</td>\n",
       "      <td>2</td>\n",
       "    </tr>\n",
       "  </tbody>\n",
       "</table>\n",
       "</div>"
      ],
      "text/plain": [
       "   Marketing Spend  Administration  Transport     Area     Profit  \\\n",
       "0        114523.61       136897.80  471784.10    Dhaka  192261.83   \n",
       "1        162597.70       151377.59  443898.53      Ctg  191792.06   \n",
       "2        153441.51       101145.55  407934.54  Rangpur  191050.39   \n",
       "3        144372.41       118671.85  383199.62    Dhaka  182901.99   \n",
       "4        142107.34        91391.77  366168.42  Rangpur  166187.94   \n",
       "\n",
       "   Area_encoded  \n",
       "0             1  \n",
       "1             0  \n",
       "2             2  \n",
       "3             1  \n",
       "4             2  "
      ]
     },
     "execution_count": 104,
     "metadata": {},
     "output_type": "execute_result"
    }
   ],
   "source": [
    "df.head(5)"
   ]
  },
  {
   "cell_type": "code",
   "execution_count": 100,
   "id": "2d7a866d",
   "metadata": {},
   "outputs": [
    {
     "data": {
      "text/html": [
       "<div>\n",
       "<style scoped>\n",
       "    .dataframe tbody tr th:only-of-type {\n",
       "        vertical-align: middle;\n",
       "    }\n",
       "\n",
       "    .dataframe tbody tr th {\n",
       "        vertical-align: top;\n",
       "    }\n",
       "\n",
       "    .dataframe thead th {\n",
       "        text-align: right;\n",
       "    }\n",
       "</style>\n",
       "<table border=\"1\" class=\"dataframe\">\n",
       "  <thead>\n",
       "    <tr style=\"text-align: right;\">\n",
       "      <th></th>\n",
       "      <th>Marketing Spend</th>\n",
       "      <th>Administration</th>\n",
       "      <th>Transport</th>\n",
       "      <th>Profit</th>\n",
       "      <th>Area_encoded</th>\n",
       "    </tr>\n",
       "  </thead>\n",
       "  <tbody>\n",
       "    <tr>\n",
       "      <th>0</th>\n",
       "      <td>114523.61</td>\n",
       "      <td>136897.80</td>\n",
       "      <td>471784.10</td>\n",
       "      <td>192261.83</td>\n",
       "      <td>1</td>\n",
       "    </tr>\n",
       "    <tr>\n",
       "      <th>1</th>\n",
       "      <td>162597.70</td>\n",
       "      <td>151377.59</td>\n",
       "      <td>443898.53</td>\n",
       "      <td>191792.06</td>\n",
       "      <td>0</td>\n",
       "    </tr>\n",
       "    <tr>\n",
       "      <th>2</th>\n",
       "      <td>153441.51</td>\n",
       "      <td>101145.55</td>\n",
       "      <td>407934.54</td>\n",
       "      <td>191050.39</td>\n",
       "      <td>2</td>\n",
       "    </tr>\n",
       "    <tr>\n",
       "      <th>3</th>\n",
       "      <td>144372.41</td>\n",
       "      <td>118671.85</td>\n",
       "      <td>383199.62</td>\n",
       "      <td>182901.99</td>\n",
       "      <td>1</td>\n",
       "    </tr>\n",
       "  </tbody>\n",
       "</table>\n",
       "</div>"
      ],
      "text/plain": [
       "   Marketing Spend  Administration  Transport     Profit  Area_encoded\n",
       "0        114523.61       136897.80  471784.10  192261.83             1\n",
       "1        162597.70       151377.59  443898.53  191792.06             0\n",
       "2        153441.51       101145.55  407934.54  191050.39             2\n",
       "3        144372.41       118671.85  383199.62  182901.99             1"
      ]
     },
     "execution_count": 100,
     "metadata": {},
     "output_type": "execute_result"
    }
   ],
   "source": [
    "df2 = df.drop(\"Area\", axis = 1)\n",
    "df2.head(4)"
   ]
  },
  {
   "cell_type": "code",
   "execution_count": 105,
   "id": "3e7054b4",
   "metadata": {},
   "outputs": [
    {
     "name": "stdout",
     "output_type": "stream",
     "text": [
      "shape of x: (50, 4)\n",
      "shape of y: (50,)\n"
     ]
    }
   ],
   "source": [
    "x = df2.drop(\"Profit\", axis = 1)\n",
    "y = df2[\"Profit\"]\n",
    "\n",
    "print(\"shape of x:\",x.shape)\n",
    "print(\"shape of y:\",y.shape)\n"
   ]
  },
  {
   "cell_type": "code",
   "execution_count": 106,
   "id": "c77a79b1",
   "metadata": {},
   "outputs": [
    {
     "data": {
      "text/html": [
       "<div>\n",
       "<style scoped>\n",
       "    .dataframe tbody tr th:only-of-type {\n",
       "        vertical-align: middle;\n",
       "    }\n",
       "\n",
       "    .dataframe tbody tr th {\n",
       "        vertical-align: top;\n",
       "    }\n",
       "\n",
       "    .dataframe thead th {\n",
       "        text-align: right;\n",
       "    }\n",
       "</style>\n",
       "<table border=\"1\" class=\"dataframe\">\n",
       "  <thead>\n",
       "    <tr style=\"text-align: right;\">\n",
       "      <th></th>\n",
       "      <th>Marketing Spend</th>\n",
       "      <th>Administration</th>\n",
       "      <th>Transport</th>\n",
       "      <th>Area_encoded</th>\n",
       "    </tr>\n",
       "  </thead>\n",
       "  <tbody>\n",
       "    <tr>\n",
       "      <th>0</th>\n",
       "      <td>114523.61</td>\n",
       "      <td>136897.80</td>\n",
       "      <td>471784.10</td>\n",
       "      <td>1</td>\n",
       "    </tr>\n",
       "    <tr>\n",
       "      <th>1</th>\n",
       "      <td>162597.70</td>\n",
       "      <td>151377.59</td>\n",
       "      <td>443898.53</td>\n",
       "      <td>0</td>\n",
       "    </tr>\n",
       "    <tr>\n",
       "      <th>2</th>\n",
       "      <td>153441.51</td>\n",
       "      <td>101145.55</td>\n",
       "      <td>407934.54</td>\n",
       "      <td>2</td>\n",
       "    </tr>\n",
       "    <tr>\n",
       "      <th>3</th>\n",
       "      <td>144372.41</td>\n",
       "      <td>118671.85</td>\n",
       "      <td>383199.62</td>\n",
       "      <td>1</td>\n",
       "    </tr>\n",
       "  </tbody>\n",
       "</table>\n",
       "</div>"
      ],
      "text/plain": [
       "   Marketing Spend  Administration  Transport  Area_encoded\n",
       "0        114523.61       136897.80  471784.10             1\n",
       "1        162597.70       151377.59  443898.53             0\n",
       "2        153441.51       101145.55  407934.54             2\n",
       "3        144372.41       118671.85  383199.62             1"
      ]
     },
     "execution_count": 106,
     "metadata": {},
     "output_type": "execute_result"
    }
   ],
   "source": [
    "x.head(4)"
   ]
  },
  {
   "cell_type": "code",
   "execution_count": 107,
   "id": "890db797",
   "metadata": {
    "scrolled": true
   },
   "outputs": [
    {
     "data": {
      "text/plain": [
       "0    192261.83\n",
       "1    191792.06\n",
       "2    191050.39\n",
       "3    182901.99\n",
       "Name: Profit, dtype: float64"
      ]
     },
     "execution_count": 107,
     "metadata": {},
     "output_type": "execute_result"
    }
   ],
   "source": [
    "y.head(4)"
   ]
  },
  {
   "cell_type": "markdown",
   "id": "e8dd9adb",
   "metadata": {},
   "source": [
    "### Data Splitting"
   ]
  },
  {
   "cell_type": "code",
   "execution_count": 108,
   "id": "afcf5427",
   "metadata": {},
   "outputs": [],
   "source": [
    "x_train,x_test,y_train,y_test = train_test_split(x,y,test_size = 0.5)"
   ]
  },
  {
   "cell_type": "code",
   "execution_count": null,
   "id": "0d6d0d85",
   "metadata": {},
   "outputs": [],
   "source": []
  },
  {
   "cell_type": "code",
   "execution_count": 109,
   "id": "1260402d",
   "metadata": {
    "scrolled": true
   },
   "outputs": [
    {
     "name": "stdout",
     "output_type": "stream",
     "text": [
      "shape of x_train:  (25, 4)\n",
      "shape of x_test:  (25, 4)\n",
      "shape of y_train:  (25,)\n",
      "shape of y_test:  (25,)\n"
     ]
    }
   ],
   "source": [
    "print(\"shape of x_train: \",x_train.shape)\n",
    "print(\"shape of x_test: \",x_test.shape)\n",
    "print(\"shape of y_train: \",y_train.shape)\n",
    "print(\"shape of y_test: \",y_test.shape)"
   ]
  },
  {
   "cell_type": "markdown",
   "id": "8ef4786d",
   "metadata": {},
   "source": [
    "## Feature Scaling"
   ]
  },
  {
   "cell_type": "code",
   "execution_count": 110,
   "id": "e6c0dc1b",
   "metadata": {},
   "outputs": [],
   "source": [
    "sc = StandardScaler()\n",
    "sc.fit(x_train)\n",
    "x_train = sc.transform(x_train)\n",
    "x_test = sc.transform(x_test)"
   ]
  },
  {
   "cell_type": "markdown",
   "id": "9330166d",
   "metadata": {},
   "source": [
    "### Model Generating"
   ]
  },
  {
   "cell_type": "code",
   "execution_count": 111,
   "id": "5851926b",
   "metadata": {},
   "outputs": [
    {
     "data": {
      "text/plain": [
       "array([31262.65345161,  2600.39792766, 11882.30484453,  -713.18626385])"
      ]
     },
     "execution_count": 111,
     "metadata": {},
     "output_type": "execute_result"
    }
   ],
   "source": [
    "lr = LinearRegression()\n",
    "lr.fit(x_train,y_train)\n",
    "lr.coef_"
   ]
  },
  {
   "cell_type": "code",
   "execution_count": 112,
   "id": "3367641a",
   "metadata": {},
   "outputs": [
    {
     "data": {
      "text/plain": [
       "116473.48280000001"
      ]
     },
     "execution_count": 112,
     "metadata": {},
     "output_type": "execute_result"
    }
   ],
   "source": [
    "lr.intercept_"
   ]
  },
  {
   "cell_type": "code",
   "execution_count": 113,
   "id": "76e31caa",
   "metadata": {},
   "outputs": [
    {
     "data": {
      "text/plain": [
       "array([[ 1.34506269, -1.27605149,  1.05508794,  1.01913032],\n",
       "       [-0.51828427, -0.83740033, -0.17936617,  1.01913032],\n",
       "       [ 0.45364753, -1.26105441,  0.10665198, -1.29707495],\n",
       "       [-1.27693992, -2.23278368, -0.41862371, -0.13897232],\n",
       "       [-0.30075106,  1.04172954, -1.05507559, -0.13897232],\n",
       "       [ 0.26168792, -0.41933311,  0.47466598,  1.01913032],\n",
       "       [-1.71214682,  0.37974597, -1.92786819, -1.29707495],\n",
       "       [-1.23502862,  1.10843801, -1.69704209, -1.29707495],\n",
       "       [-0.71336504,  1.21702351, -0.21062506, -1.29707495],\n",
       "       [-1.70048549, -2.76690786, -1.92786819, -0.13897232],\n",
       "       [-0.37843588, -0.36422816, -1.18547623,  1.01913032],\n",
       "       [ 1.18388701,  0.82239156, -0.88743529, -1.29707495],\n",
       "       [-1.20355046, -1.09564369, -0.72219125, -1.29707495],\n",
       "       [ 0.48034821, -0.55401044, -0.06103035,  1.01913032],\n",
       "       [-1.37856613,  0.07725441, -1.63839246, -0.13897232],\n",
       "       [-0.72222962, -1.51460922, -0.25363832, -0.13897232],\n",
       "       [-0.07166839, -0.43093286,  0.50517345, -1.29707495],\n",
       "       [-0.3209902 ,  0.5348997 , -0.80396885, -1.29707495],\n",
       "       [-0.0257242 ,  1.06960633,  0.51391307, -0.13897232],\n",
       "       [-0.05466959, -0.97939007, -0.7826889 , -0.13897232],\n",
       "       [ 0.32424884,  0.7426274 ,  0.37409649, -0.13897232],\n",
       "       [ 0.94120358, -0.62601548,  0.55663551, -1.29707495],\n",
       "       [ 1.12497133, -0.95933444,  1.02814729, -0.13897232],\n",
       "       [ 0.88113048,  0.87954918,  0.61065978, -0.13897232],\n",
       "       [-1.69062849, -0.04417133, -1.912358  , -0.13897232]])"
      ]
     },
     "execution_count": 113,
     "metadata": {},
     "output_type": "execute_result"
    }
   ],
   "source": [
    "x_test"
   ]
  },
  {
   "cell_type": "code",
   "execution_count": 118,
   "id": "b88da2fe",
   "metadata": {},
   "outputs": [
    {
     "data": {
      "text/plain": [
       "array([[ 1.34506269, -1.27605149,  1.05508794,  1.01913032],\n",
       "       [-0.51828427, -0.83740033, -0.17936617,  1.01913032],\n",
       "       [ 0.45364753, -1.26105441,  0.10665198, -1.29707495],\n",
       "       [-1.27693992, -2.23278368, -0.41862371, -0.13897232],\n",
       "       [-0.30075106,  1.04172954, -1.05507559, -0.13897232],\n",
       "       [ 0.26168792, -0.41933311,  0.47466598,  1.01913032],\n",
       "       [-1.71214682,  0.37974597, -1.92786819, -1.29707495],\n",
       "       [-1.23502862,  1.10843801, -1.69704209, -1.29707495],\n",
       "       [-0.71336504,  1.21702351, -0.21062506, -1.29707495],\n",
       "       [-1.70048549, -2.76690786, -1.92786819, -0.13897232],\n",
       "       [-0.37843588, -0.36422816, -1.18547623,  1.01913032],\n",
       "       [ 1.18388701,  0.82239156, -0.88743529, -1.29707495],\n",
       "       [-1.20355046, -1.09564369, -0.72219125, -1.29707495],\n",
       "       [ 0.48034821, -0.55401044, -0.06103035,  1.01913032],\n",
       "       [-1.37856613,  0.07725441, -1.63839246, -0.13897232],\n",
       "       [-0.72222962, -1.51460922, -0.25363832, -0.13897232],\n",
       "       [-0.07166839, -0.43093286,  0.50517345, -1.29707495],\n",
       "       [-0.3209902 ,  0.5348997 , -0.80396885, -1.29707495],\n",
       "       [-0.0257242 ,  1.06960633,  0.51391307, -0.13897232],\n",
       "       [-0.05466959, -0.97939007, -0.7826889 , -0.13897232],\n",
       "       [ 0.32424884,  0.7426274 ,  0.37409649, -0.13897232],\n",
       "       [ 0.94120358, -0.62601548,  0.55663551, -1.29707495],\n",
       "       [ 1.12497133, -0.95933444,  1.02814729, -0.13897232],\n",
       "       [ 0.88113048,  0.87954918,  0.61065978, -0.13897232],\n",
       "       [-1.69062849, -0.04417133, -1.912358  , -0.13897232]])"
      ]
     },
     "execution_count": 118,
     "metadata": {},
     "output_type": "execute_result"
    }
   ],
   "source": [
    "x_test\n"
   ]
  },
  {
   "cell_type": "code",
   "execution_count": 115,
   "id": "79b71c75",
   "metadata": {},
   "outputs": [
    {
     "data": {
      "text/plain": [
       "array([167015.51674744,  95234.8540612 , 129568.79233333,  65871.72516846,\n",
       "        97342.5014217 , 128477.40471374,  41952.25927177,  61505.87537514,\n",
       "        95758.8891703 ,  33308.32836517,  88882.41517659, 146003.75694569,\n",
       "        68341.95173365, 128597.78398951,  54207.97446376,  87041.38695069,\n",
       "       120040.02278228,  99201.48241914, 124656.26321421, 103016.52747532,\n",
       "       133085.73025007, 151809.28377484, 161464.29290552, 153662.29617918,\n",
       "        40880.97955415])"
      ]
     },
     "execution_count": 115,
     "metadata": {},
     "output_type": "execute_result"
    }
   ],
   "source": [
    "y_predict = lr.predict(x_test)\n",
    "y_predict"
   ]
  },
  {
   "cell_type": "code",
   "execution_count": 116,
   "id": "1581e827",
   "metadata": {},
   "outputs": [
    {
     "data": {
      "text/plain": [
       "4     166187.94\n",
       "33     96778.92\n",
       "11    144259.40\n",
       "38     81229.06\n",
       "29    101004.64\n",
       "18    124266.90\n",
       "47     42559.73\n",
       "44     65200.33\n",
       "34     96712.80\n",
       "48     35673.41\n",
       "30     99937.59\n",
       "6     156122.51\n",
       "42     71498.49\n",
       "10    146121.95\n",
       "43     69758.98\n",
       "35     96479.51\n",
       "20    118474.03\n",
       "25    107404.34\n",
       "21    111313.02\n",
       "24    108552.04\n",
       "17    125370.37\n",
       "9     149759.96\n",
       "5     156991.12\n",
       "8     152211.77\n",
       "45     64926.08\n",
       "Name: Profit, dtype: float64"
      ]
     },
     "execution_count": 116,
     "metadata": {},
     "output_type": "execute_result"
    }
   ],
   "source": [
    "y_test"
   ]
  },
  {
   "cell_type": "code",
   "execution_count": 117,
   "id": "c3387d51",
   "metadata": {},
   "outputs": [
    {
     "name": "stdout",
     "output_type": "stream",
     "text": [
      "\n",
      "The Accuracy is :  92.84911979869887 % .\n"
     ]
    }
   ],
   "source": [
    "print(\"\\nThe Accuracy is : \", lr.score(x_test,y_test)*100,\"% .\")"
   ]
  },
  {
   "cell_type": "markdown",
   "id": "773bc27d",
   "metadata": {},
   "source": [
    "### Visulization"
   ]
  },
  {
   "cell_type": "code",
   "execution_count": null,
   "id": "9131fb74",
   "metadata": {},
   "outputs": [],
   "source": []
  },
  {
   "cell_type": "code",
   "execution_count": null,
   "id": "72529e83",
   "metadata": {},
   "outputs": [],
   "source": []
  },
  {
   "cell_type": "code",
   "execution_count": null,
   "id": "b37f546d",
   "metadata": {},
   "outputs": [],
   "source": []
  },
  {
   "cell_type": "code",
   "execution_count": null,
   "id": "60d29af2",
   "metadata": {},
   "outputs": [],
   "source": []
  }
 ],
 "metadata": {
  "kernelspec": {
   "display_name": "Python 3 (ipykernel)",
   "language": "python",
   "name": "python3"
  },
  "language_info": {
   "codemirror_mode": {
    "name": "ipython",
    "version": 3
   },
   "file_extension": ".py",
   "mimetype": "text/x-python",
   "name": "python",
   "nbconvert_exporter": "python",
   "pygments_lexer": "ipython3",
   "version": "3.10.6"
  }
 },
 "nbformat": 4,
 "nbformat_minor": 5
}
